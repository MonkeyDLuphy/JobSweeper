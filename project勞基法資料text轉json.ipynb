{
 "cells": [
  {
   "cell_type": "code",
   "execution_count": 3,
   "metadata": {
    "collapsed": true
   },
   "outputs": [],
   "source": [
    "d = []\n",
    "with open('totalCOMBI.txt', 'r') as f:\n",
    "    for ele in f.readlines():\n",
    "        name = ele.strip().split(',')\n",
    "        dic = {'company':name[0],'date':name[4],'lawNumber':name[2],'law':name[1],'content':name[3]}\n",
    "        d.append(dic)"
   ]
  },
  {
   "cell_type": "code",
   "execution_count": 4,
   "metadata": {
    "collapsed": false
   },
   "outputs": [],
   "source": [
    "import json\n",
    "d1 =  json.dumps(d)\n",
    "with open('totalCOMBI.json', \"w\") as f:\n",
    "        f.write(d1)\n",
    "        f.close()"
   ]
  },
  {
   "cell_type": "markdown",
   "metadata": {},
   "source": [
    "# 刪除公司代表人&多餘空格"
   ]
  },
  {
   "cell_type": "code",
   "execution_count": 3,
   "metadata": {
    "collapsed": false
   },
   "outputs": [],
   "source": [
    "with open('test.txt','a+') as ff:\n",
    "    with open('totalCOMBI.txt', 'r') as f:\n",
    "        for ele in f.readlines():\n",
    "            name = ele.strip().split(',')\n",
    "            b = name[0].split('公司')[0]+'公司'+','+name[1]+','+name[2]+','+name[3]+','+name[4]+\"\\n\"\n",
    "            #print b\n",
    "            ff.write(b)\n",
    "        ff.close()"
   ]
  },
  {
   "cell_type": "code",
   "execution_count": 4,
   "metadata": {
    "collapsed": true
   },
   "outputs": [],
   "source": [
    "d = []\n",
    "with open('test.txt','r') as f:\n",
    "    for ele in f.readlines():\n",
    "        name=ele.strip().split(',')\n",
    "        dic={'company':name[0],'law':name[1],'lawnumber':name[2],'content':name[3],'date':name[4]}\n",
    "        d.append(dic)        "
   ]
  },
  {
   "cell_type": "code",
   "execution_count": 6,
   "metadata": {
    "collapsed": false
   },
   "outputs": [],
   "source": [
    "import json\n",
    "d1=json.dumps(d)\n",
    "with open('test.json','w') as f:\n",
    "    f.write(d1)\n",
    "    f.close()"
   ]
  },
  {
   "cell_type": "code",
   "execution_count": null,
   "metadata": {
    "collapsed": true
   },
   "outputs": [],
   "source": []
  }
 ],
 "metadata": {
  "kernelspec": {
   "display_name": "Python 2",
   "language": "python",
   "name": "python2"
  },
  "language_info": {
   "codemirror_mode": {
    "name": "ipython",
    "version": 2
   },
   "file_extension": ".py",
   "mimetype": "text/x-python",
   "name": "python",
   "nbconvert_exporter": "python",
   "pygments_lexer": "ipython2",
   "version": "2.7.11"
  }
 },
 "nbformat": 4,
 "nbformat_minor": 0
}
