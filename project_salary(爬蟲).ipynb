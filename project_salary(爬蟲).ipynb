{
 "cells": [
  {
   "cell_type": "code",
   "execution_count": 1,
   "metadata": {
    "collapsed": true
   },
   "outputs": [],
   "source": [
    "import requests     \n",
    "from bs4 import BeautifulSoup as bs\n",
    "from urlparse import urljoin\n",
    "import time "
   ]
  },
  {
   "cell_type": "code",
   "execution_count": 1,
   "metadata": {
    "collapsed": true
   },
   "outputs": [
    {
     "name": "stdout",
     "output_type": "stream",
     "text": [
      "http://career.zhupiter.com/query-profile-detail.php?ProId=1\n",
      "http://career.zhupiter.com/query-profile-detail.php?ProId=2\n",
      "http://career.zhupiter.com/query-profile-detail.php?ProId=3\n",
      "http://career.zhupiter.com/query-profile-detail.php?ProId=4\n",
      "http://career.zhupiter.com/query-profile-detail.php?ProId=5\n",
      "http://career.zhupiter.com/query-profile-detail.php?ProId=6\n",
      "http://career.zhupiter.com/query-profile-detail.php?ProId=7\n",
      "http://career.zhupiter.com/query-profile-detail.php?ProId=8\n",
      "http://career.zhupiter.com/query-profile-detail.php?ProId=9\n"
     ]
    }
   ],
   "source": [
    "urlformat = 'http://career.zhupiter.com/query-profile-detail.php?ProId={}'\n",
    "page_number = 10\n",
    "for page in xrange(1,page_number):\n",
    "    print urlformat.format(page)"
   ]
  },
  {
   "cell_type": "markdown",
   "metadata": {},
   "source": [
    "### 諸比特主要爬蟲"
   ]
  },
  {
   "cell_type": "code",
   "execution_count": 1,
   "metadata": {
    "collapsed": false
   },
   "outputs": [
    {
     "name": "stdout",
     "output_type": "stream",
     "text": [
      "1\n",
      "工業技術研究院(工研院)\n",
      "-- 26\n",
      "2\n",
      "工業技術研究院(工研院)\n",
      "-- 26\n",
      "3\n",
      "台灣經濟研究院(台經院)\n",
      "-- 27\n",
      "5\n",
      "敦陽科技股份有限公司\n",
      "-- 27\n",
      "6\n",
      "屏訊科技股份有限公司\n",
      "-- 26\n",
      "7\n",
      "翊傑\n",
      "-- 26\n",
      "8\n",
      "其樂達科技股份有限公司\n",
      "-- 26\n",
      "9\n",
      "廣達電腦股份有限公司\n",
      "-- 26\n",
      "10\n",
      "春合昌\n",
      "-- 27\n",
      "11\n",
      "厚美德生物科技\n",
      "-- 28\n",
      "12\n",
      "台元紡織\n",
      "-- 26\n",
      "13\n",
      "合勤科技股份有限公司\n",
      "-- 27\n",
      "14\n",
      "合勤科技股份有限公司\n",
      "-- 26\n",
      "15\n",
      "聯發科技股份有限公司\n",
      "-- 29\n",
      "16\n",
      "創介科技股份有限公司\n",
      "-- 26\n",
      "17\n",
      "威播科技\n",
      "-- 26\n",
      "18\n",
      "敦陽科技股份有限公司\n",
      "-- 26\n",
      "19\n",
      "力新國際科技股份有限公司\n",
      "-- 26\n"
     ]
    },
    {
     "name": "stderr",
     "output_type": "stream",
     "text": [
      "C:\\Users\\BIG DATA\\Anaconda2\\lib\\site-packages\\bs4\\__init__.py:166: UserWarning: No parser was explicitly specified, so I'm using the best available HTML parser for this system (\"lxml\"). This usually isn't a problem, but if you run this code on another system, or in a different virtual environment, it may use a different parser and behave differently.\n",
      "\n",
      "To get rid of this warning, change this:\n",
      "\n",
      " BeautifulSoup([your markup])\n",
      "\n",
      "to this:\n",
      "\n",
      " BeautifulSoup([your markup], \"lxml\")\n",
      "\n",
      "  markup_type=markup_type))\n"
     ]
    }
   ],
   "source": [
    "import requests     \n",
    "from bs4 import BeautifulSoup as bs\n",
    "from urlparse import urljoin\n",
    "\n",
    "url='http://career.zhupiter.com/query-profile-detail.php?ProId={}'\n",
    "headers = {\n",
    "    'Cookie':'PHPSESSID=obffgkekoh32k9114kplfvvm65; _gat=1; _ga=GA1.2.1037089073.1457158872',\n",
    "    'Host':'career.zhupiter.com',\n",
    "    'Upgrade-Insecure-Requests':'1',\n",
    "    'User-Agent':'Mozilla/5.0 (Windows NT 6.1; WOW64) AppleWebKit/537.36 (KHTML, like Gecko) Chrome/49.0.2623.110 Safari/537.36'\n",
    "}\n",
    "page_number =20\n",
    "for page in xrange(1,page_number):\n",
    "    rs = requests.session()  #用rs存取第一面的資料\n",
    "    res = rs.get(url.format(page), headers = headers)\n",
    "    soup = bs(res.text)\n",
    "#    print len(soup.select('.DjErrMsg a'))  列出a標籤的個數\n",
    "    if len(soup.select('.DjErrMsg a')) > 0:\n",
    "        print page\n",
    "        data = soup.select('.DjTrCol2 td b')\n",
    "        print data[0].text\n",
    "        print '--' , len(data)"
   ]
  },
  {
   "cell_type": "code",
   "execution_count": 17,
   "metadata": {
    "collapsed": false
   },
   "outputs": [
    {
     "data": {
      "text/plain": [
       "1.135"
      ]
     },
     "execution_count": 17,
     "metadata": {},
     "output_type": "execute_result"
    }
   ],
   "source": [
    "import time\n",
    "import random\n",
    "time.sleep(round(random.random()*5,3))\n",
    "round(random.random()*5,3)"
   ]
  },
  {
   "cell_type": "code",
   "execution_count": null,
   "metadata": {
    "collapsed": true
   },
   "outputs": [],
   "source": []
  },
  {
   "cell_type": "code",
   "execution_count": null,
   "metadata": {
    "collapsed": true
   },
   "outputs": [],
   "source": []
  }
 ],
 "metadata": {
  "kernelspec": {
   "display_name": "Python 2",
   "language": "python",
   "name": "python2"
  },
  "language_info": {
   "codemirror_mode": {
    "name": "ipython",
    "version": 2
   },
   "file_extension": ".py",
   "mimetype": "text/x-python",
   "name": "python",
   "nbconvert_exporter": "python",
   "pygments_lexer": "ipython2",
   "version": "2.7.11"
  }
 },
 "nbformat": 4,
 "nbformat_minor": 0
}
